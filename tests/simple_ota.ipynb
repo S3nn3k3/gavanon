{
 "cells": [
  {
   "cell_type": "code",
   "execution_count": null,
   "metadata": {},
   "outputs": [],
   "source": [
    "from gavanon_skill import Transistor, DoubleTransistor, VoltageSource, CurrentSource"
   ]
  }
 ],
 "metadata": {
  "language_info": {
   "name": "python"
  }
 },
 "nbformat": 4,
 "nbformat_minor": 2
}
